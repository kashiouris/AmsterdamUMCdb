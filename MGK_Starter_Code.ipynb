{
  "nbformat": 4,
  "nbformat_minor": 0,
  "metadata": {
    "colab": {
      "provenance": [],
      "toc_visible": true,
      "machine_shape": "hm",
      "gpuType": "V100",
      "authorship_tag": "ABX9TyOxmYLPdjP0wKPwPdd8ks2u",
      "include_colab_link": true
    },
    "kernelspec": {
      "name": "python3",
      "display_name": "Python 3"
    },
    "language_info": {
      "name": "python"
    },
    "accelerator": "GPU",
    "gpuClass": "standard"
  },
  "cells": [
    {
      "cell_type": "markdown",
      "metadata": {
        "id": "view-in-github",
        "colab_type": "text"
      },
      "source": [
        "<a href=\"https://colab.research.google.com/github/kashiouris/AmsterdamUMCdb/blob/master/MGK_Starter_Code.ipynb\" target=\"_parent\"><img src=\"https://colab.research.google.com/assets/colab-badge.svg\" alt=\"Open In Colab\"/></a>"
      ]
    },
    {
      "cell_type": "code",
      "source": [
        "## REQURES LOCAL CONNECTION \n",
        "!pip install tensorflow_addons\n",
        "!pip install pystata\n",
        "# If you want to ignore warnings \n",
        "import warnings\n",
        "warnings.filterwarnings(\"ignore\");"
      ],
      "metadata": {
        "colab": {
          "base_uri": "https://localhost:8080/"
        },
        "id": "VzV6urlJvukT",
        "outputId": "2b1c6928-8614-420a-ba68-77791e1f5c7c"
      },
      "execution_count": 49,
      "outputs": [
        {
          "output_type": "stream",
          "name": "stdout",
          "text": [
            "Requirement already satisfied: tensorflow_addons in /Users/cherub/miniconda/lib/python3.10/site-packages (0.20.0)\n",
            "Requirement already satisfied: typeguard<3.0.0,>=2.7 in /Users/cherub/miniconda/lib/python3.10/site-packages (from tensorflow_addons) (2.13.3)\n",
            "Requirement already satisfied: packaging in /Users/cherub/miniconda/lib/python3.10/site-packages (from tensorflow_addons) (23.0)\n",
            "Requirement already satisfied: pystata in /Users/cherub/miniconda/lib/python3.10/site-packages (0.0.1)\n",
            "Requirement already satisfied: pandas in /Users/cherub/miniconda/lib/python3.10/site-packages (from pystata) (2.0.1)\n",
            "Requirement already satisfied: python-dateutil>=2.8.2 in /Users/cherub/miniconda/lib/python3.10/site-packages (from pandas->pystata) (2.8.2)\n",
            "Requirement already satisfied: pytz>=2020.1 in /Users/cherub/miniconda/lib/python3.10/site-packages (from pandas->pystata) (2022.7)\n",
            "Requirement already satisfied: tzdata>=2022.1 in /Users/cherub/miniconda/lib/python3.10/site-packages (from pandas->pystata) (2023.3)\n",
            "Requirement already satisfied: numpy>=1.21.0 in /Users/cherub/miniconda/lib/python3.10/site-packages (from pandas->pystata) (1.24.3)\n",
            "Requirement already satisfied: six>=1.5 in /Users/cherub/miniconda/lib/python3.10/site-packages (from python-dateutil>=2.8.2->pandas->pystata) (1.16.0)\n"
          ]
        }
      ]
    },
    {
      "cell_type": "code",
      "source": [
        "## Plotting\n",
        "import matplotlib.pyplot as plt\n",
        "from IPython import display\n",
        "\n",
        "%matplotlib inline\n",
        "import matplotlib_inline\n",
        "matplotlib_inline.backend_inline.set_matplotlib_formats('svg')"
      ],
      "metadata": {
        "id": "cuGB-5Nx8-g1"
      },
      "execution_count": 45,
      "outputs": []
    },
    {
      "cell_type": "code",
      "source": [
        "#Initialize STATA \n",
        "import stata_setup\n",
        "stata_setup.config('/Applications/Stata/', \"mp\");"
      ],
      "metadata": {
        "id": "eu0AO_zX2jRP"
      },
      "execution_count": 48,
      "outputs": []
    },
    {
      "cell_type": "code",
      "source": [
        "!cd "
      ],
      "metadata": {
        "id": "09qr-CbT5FE4"
      },
      "execution_count": null,
      "outputs": []
    },
    {
      "cell_type": "code",
      "source": [],
      "metadata": {
        "id": "tV6OtyOx5G7I"
      },
      "execution_count": null,
      "outputs": []
    },
    {
      "cell_type": "code",
      "source": [
        "!cd /Applications/Stata/StataMP.app/Contents/MacOS/  "
      ],
      "metadata": {
        "id": "RaO7XOya4uIJ"
      },
      "execution_count": null,
      "outputs": []
    },
    {
      "cell_type": "code",
      "source": [
        "### Markos Starter Code\n",
        "import numpy as np\n",
        "import tqdm \n",
        "import tensorflow as tf\n",
        "import tensorflow_addons as tfa\n",
        "# quietly deep-reload tqdm\n",
        "import sys\n",
        "from IPython.lib import deepreload \n",
        "stdout = sys.stdout\n",
        "sys.stdout = open('junk','w')\n",
        "deepreload.reload(tqdm)\n",
        "sys.stdout = stdout\n",
        "tqdm.__version__\n",
        "# initialize tqdm callback with default parameters\n",
        "tqdm_callback = tfa.callbacks.TQDMProgressBar()"
      ],
      "metadata": {
        "colab": {
          "base_uri": "https://localhost:8080/"
        },
        "outputId": "c79222b9-a3c0-4a3e-e0f4-8ac59d5d69c9",
        "id": "ewyW7PvX3LoL"
      },
      "execution_count": null,
      "outputs": [
        {
          "output_type": "stream",
          "name": "stderr",
          "text": [
            "/Users/cherub/miniconda/lib/python3.10/site-packages/tensorflow_addons/utils/tfa_eol_msg.py:23: UserWarning: \n",
            "\n",
            "TensorFlow Addons (TFA) has ended development and introduction of new features.\n",
            "TFA has entered a minimal maintenance and release mode until a planned end of life in May 2024.\n",
            "Please modify downstream libraries to take dependencies from other repositories in our TensorFlow community (e.g. Keras, Keras-CV, and Keras-NLP). \n",
            "\n",
            "For more information see: https://github.com/tensorflow/addons/issues/2807 \n",
            "\n",
            "  warnings.warn(\n"
          ]
        }
      ]
    },
    {
      "cell_type": "code",
      "source": [
        "### Markos Starter Code\n",
        "import numpy as np\n",
        "import tqdm \n",
        "import tensorflow as tf\n",
        "import tensorflow_addons as tfa\n",
        "# quietly deep-reload tqdm\n",
        "import sys\n",
        "from IPython.lib import deepreload \n",
        "stdout = sys.stdout\n",
        "sys.stdout = open('junk','w')\n",
        "deepreload.reload(tqdm)\n",
        "sys.stdout = stdout\n",
        "tqdm.__version__\n",
        "# initialize tqdm callback with default parameters\n",
        "tqdm_callback = tfa.callbacks.TQDMProgressBar()"
      ],
      "metadata": {
        "colab": {
          "base_uri": "https://localhost:8080/"
        },
        "id": "ovy1aFFbt3_J",
        "outputId": "c79222b9-a3c0-4a3e-e0f4-8ac59d5d69c9"
      },
      "execution_count": 2,
      "outputs": [
        {
          "output_type": "stream",
          "name": "stderr",
          "text": [
            "/Users/cherub/miniconda/lib/python3.10/site-packages/tensorflow_addons/utils/tfa_eol_msg.py:23: UserWarning: \n",
            "\n",
            "TensorFlow Addons (TFA) has ended development and introduction of new features.\n",
            "TFA has entered a minimal maintenance and release mode until a planned end of life in May 2024.\n",
            "Please modify downstream libraries to take dependencies from other repositories in our TensorFlow community (e.g. Keras, Keras-CV, and Keras-NLP). \n",
            "\n",
            "For more information see: https://github.com/tensorflow/addons/issues/2807 \n",
            "\n",
            "  warnings.warn(\n"
          ]
        }
      ]
    },
    {
      "cell_type": "code",
      "source": [
        "X = tf.constant([[10,3],[4,7]])"
      ],
      "metadata": {
        "id": "fi608UcUvMUp",
        "colab": {
          "base_uri": "https://localhost:8080/"
        },
        "outputId": "f5ddc461-4638-4e52-fcac-22ce7ab62e15"
      },
      "execution_count": 3,
      "outputs": [
        {
          "output_type": "stream",
          "name": "stdout",
          "text": [
            "Metal device set to: Apple M1 Ultra\n"
          ]
        }
      ]
    },
    {
      "cell_type": "code",
      "source": [
        "!cd /Users/"
      ],
      "metadata": {
        "id": "iOpYkFCO3G17"
      },
      "execution_count": 25,
      "outputs": []
    },
    {
      "cell_type": "code",
      "source": [
        "!ls"
      ],
      "metadata": {
        "colab": {
          "base_uri": "https://localhost:8080/"
        },
        "id": "NIAGcLzl4h50",
        "outputId": "3594fbb9-d379-4d08-cadc-3616107b152b"
      },
      "execution_count": 26,
      "outputs": [
        {
          "output_type": "stream",
          "name": "stdout",
          "text": [
            "\u001b[34mDesktop\u001b[m\u001b[m          \u001b[34mMovies\u001b[m\u001b[m           Untitled10.ipynb Untitled6.ipynb\r\n",
            "\u001b[34mDocuments\u001b[m\u001b[m        \u001b[34mMusic\u001b[m\u001b[m            Untitled11.ipynb Untitled7.ipynb\r\n",
            "\u001b[34mDownloads\u001b[m\u001b[m        \u001b[34mPictures\u001b[m\u001b[m         Untitled2.ipynb  Untitled8.ipynb\r\n",
            "\u001b[34mDropbox\u001b[m\u001b[m          \u001b[34mPublic\u001b[m\u001b[m           Untitled3.ipynb  Untitled9.ipynb\r\n",
            "\u001b[35mGoogle Drive\u001b[m\u001b[m     Untitled.ipynb   Untitled4.ipynb  junk\r\n",
            "\u001b[34mLibrary\u001b[m\u001b[m          Untitled1.ipynb  Untitled5.ipynb  \u001b[34mminiconda\u001b[m\u001b[m\r\n"
          ]
        }
      ]
    },
    {
      "cell_type": "code",
      "source": [
        "! cd /Applications/"
      ],
      "metadata": {
        "id": "_eDLdq4W4jih"
      },
      "execution_count": 27,
      "outputs": []
    },
    {
      "cell_type": "code",
      "source": [
        "!ls"
      ],
      "metadata": {
        "colab": {
          "base_uri": "https://localhost:8080/"
        },
        "id": "J_hNgDja4qbD",
        "outputId": "0b63b2a3-bf95-4504-816a-795ae3790e00"
      },
      "execution_count": 28,
      "outputs": [
        {
          "output_type": "stream",
          "name": "stdout",
          "text": [
            "\u001b[34mDesktop\u001b[m\u001b[m          \u001b[34mMovies\u001b[m\u001b[m           Untitled10.ipynb Untitled6.ipynb\r\n",
            "\u001b[34mDocuments\u001b[m\u001b[m        \u001b[34mMusic\u001b[m\u001b[m            Untitled11.ipynb Untitled7.ipynb\r\n",
            "\u001b[34mDownloads\u001b[m\u001b[m        \u001b[34mPictures\u001b[m\u001b[m         Untitled2.ipynb  Untitled8.ipynb\r\n",
            "\u001b[34mDropbox\u001b[m\u001b[m          \u001b[34mPublic\u001b[m\u001b[m           Untitled3.ipynb  Untitled9.ipynb\r\n",
            "\u001b[35mGoogle Drive\u001b[m\u001b[m     Untitled.ipynb   Untitled4.ipynb  junk\r\n",
            "\u001b[34mLibrary\u001b[m\u001b[m          Untitled1.ipynb  Untitled5.ipynb  \u001b[34mminiconda\u001b[m\u001b[m\r\n"
          ]
        }
      ]
    },
    {
      "cell_type": "code",
      "source": [
        "!cd Applications"
      ],
      "metadata": {
        "colab": {
          "base_uri": "https://localhost:8080/"
        },
        "id": "CHiL8b3u4rq0",
        "outputId": "7c1769df-6485-4779-98c6-4450090b103d"
      },
      "execution_count": 29,
      "outputs": [
        {
          "output_type": "stream",
          "name": "stdout",
          "text": [
            "zsh:cd:1: no such file or directory: Applications\r\n"
          ]
        }
      ]
    },
    {
      "cell_type": "code",
      "source": [
        "!ls"
      ],
      "metadata": {
        "colab": {
          "base_uri": "https://localhost:8080/"
        },
        "id": "zFRyUCpv42qU",
        "outputId": "51f5111c-a06d-4773-aaa2-18ad7ba363e9"
      },
      "execution_count": 31,
      "outputs": [
        {
          "output_type": "stream",
          "name": "stdout",
          "text": [
            "\u001b[34mDesktop\u001b[m\u001b[m          \u001b[34mMovies\u001b[m\u001b[m           Untitled10.ipynb Untitled6.ipynb\r\n",
            "\u001b[34mDocuments\u001b[m\u001b[m        \u001b[34mMusic\u001b[m\u001b[m            Untitled11.ipynb Untitled7.ipynb\r\n",
            "\u001b[34mDownloads\u001b[m\u001b[m        \u001b[34mPictures\u001b[m\u001b[m         Untitled2.ipynb  Untitled8.ipynb\r\n",
            "\u001b[34mDropbox\u001b[m\u001b[m          \u001b[34mPublic\u001b[m\u001b[m           Untitled3.ipynb  Untitled9.ipynb\r\n",
            "\u001b[35mGoogle Drive\u001b[m\u001b[m     Untitled.ipynb   Untitled4.ipynb  junk\r\n",
            "\u001b[34mLibrary\u001b[m\u001b[m          Untitled1.ipynb  Untitled5.ipynb  \u001b[34mminiconda\u001b[m\u001b[m\r\n"
          ]
        }
      ]
    },
    {
      "cell_type": "code",
      "source": [],
      "metadata": {
        "id": "e2KUAWNd45FJ"
      },
      "execution_count": null,
      "outputs": []
    }
  ]
}